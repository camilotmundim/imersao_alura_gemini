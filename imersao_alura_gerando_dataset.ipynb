{
  "nbformat": 4,
  "nbformat_minor": 0,
  "metadata": {
    "colab": {
      "provenance": [],
      "authorship_tag": "ABX9TyNk96yUTmFOW8J62d0QBUHM",
      "include_colab_link": true
    },
    "kernelspec": {
      "name": "python3",
      "display_name": "Python 3"
    },
    "language_info": {
      "name": "python"
    }
  },
  "cells": [
    {
      "cell_type": "markdown",
      "metadata": {
        "id": "view-in-github",
        "colab_type": "text"
      },
      "source": [
        "<a href=\"https://colab.research.google.com/github/camilotmundim/imersao_alura_gemini/blob/main/imersao_alura_gerando_dataset.ipynb\" target=\"_parent\"><img src=\"https://colab.research.google.com/assets/colab-badge.svg\" alt=\"Open In Colab\"/></a>"
      ]
    },
    {
      "cell_type": "markdown",
      "source": [
        "###Instalação da biblioteca Python do Gemini API"
      ],
      "metadata": {
        "id": "QG6NBZgUHWcb"
      }
    },
    {
      "cell_type": "code",
      "execution_count": 1,
      "metadata": {
        "id": "TWXmTmINf9a5"
      },
      "outputs": [],
      "source": [
        "!pip install -q -U google-generativeai"
      ]
    },
    {
      "cell_type": "markdown",
      "source": [
        "###Importação dos pacotes necessários"
      ],
      "metadata": {
        "id": "nCo69Y7cIAjN"
      }
    },
    {
      "cell_type": "code",
      "source": [
        "from google.colab import userdata\n",
        "import google.generativeai as genai\n",
        "import pandas as pd"
      ],
      "metadata": {
        "id": "GHhJ0RBPIANk"
      },
      "execution_count": 2,
      "outputs": []
    },
    {
      "cell_type": "markdown",
      "source": [
        "###Autenticação com sua API KEY\n",
        "Após gerar sua API_KEY no Google AI Studio (https://aistudio.google.com), crie uma Secret com o nome 'GOOGLE_API_KEY' no Colab (ou somente cole o texto dela no parâmetro api_key abaixo)."
      ],
      "metadata": {
        "id": "-BruVR-1IZrH"
      }
    },
    {
      "cell_type": "code",
      "source": [
        "GOOGLE_API_KEY=userdata.get('GOOGLE_API_KEY')\n",
        "genai.configure(api_key=GOOGLE_API_KEY)"
      ],
      "metadata": {
        "id": "Z5U-Ecweptn0"
      },
      "execution_count": 3,
      "outputs": []
    },
    {
      "cell_type": "markdown",
      "source": [
        "###Seleção do modelo"
      ],
      "metadata": {
        "id": "kzYiAboWKItp"
      }
    },
    {
      "cell_type": "markdown",
      "source": [
        "Listando os modelos disponíveis."
      ],
      "metadata": {
        "id": "DTEDS5QULByB"
      }
    },
    {
      "cell_type": "code",
      "source": [
        "for m in genai.list_models():\n",
        "  if 'generateContent' in m.supported_generation_methods:\n",
        "    print(m.name)"
      ],
      "metadata": {
        "colab": {
          "base_uri": "https://localhost:8080/",
          "height": 138
        },
        "id": "iy4lJrIHpx3u",
        "outputId": "0e3c3b0f-05f7-4d7d-e708-b0ff3363a2c9"
      },
      "execution_count": 4,
      "outputs": [
        {
          "output_type": "stream",
          "name": "stdout",
          "text": [
            "models/gemini-1.0-pro\n",
            "models/gemini-1.0-pro-001\n",
            "models/gemini-1.0-pro-latest\n",
            "models/gemini-1.0-pro-vision-latest\n",
            "models/gemini-1.5-pro-latest\n",
            "models/gemini-pro\n",
            "models/gemini-pro-vision\n"
          ]
        }
      ]
    },
    {
      "cell_type": "markdown",
      "source": [
        "Configurando os parâmetros do modelo"
      ],
      "metadata": {
        "id": "ALuC6nrDMJo5"
      }
    },
    {
      "cell_type": "code",
      "source": [
        "generation_config = {\n",
        "  \"candidate_count\": 1,\n",
        "  \"temperature\": 0.5,\n",
        "}"
      ],
      "metadata": {
        "id": "BeRG5EvnMW2H"
      },
      "execution_count": 5,
      "outputs": []
    },
    {
      "cell_type": "markdown",
      "source": [
        "Instanciando o modelo escolhido, utilizando as configurações personalizadas."
      ],
      "metadata": {
        "id": "ziH9OaVGMy66"
      }
    },
    {
      "cell_type": "code",
      "source": [
        "model = genai.GenerativeModel(model_name='gemini-1.0-pro',\n",
        "                              generation_config=generation_config,\n",
        "                              )"
      ],
      "metadata": {
        "id": "7BnONVW94Wj0"
      },
      "execution_count": 6,
      "outputs": []
    },
    {
      "cell_type": "markdown",
      "source": [
        "###Criação do dataset"
      ],
      "metadata": {
        "id": "kcIM9lt8NKbh"
      }
    },
    {
      "cell_type": "markdown",
      "source": [
        "Prompt para o Gemini criar um dataset, **com dados fictícios**, contendo uma lista de alunos e notas bimestrais dos mesmos.\n",
        "Esse dataset será utilizado no ChatBot que será criado depois."
      ],
      "metadata": {
        "id": "gLV-5Poz44FE"
      }
    },
    {
      "cell_type": "code",
      "source": [
        "response =  model.generate_content(\"\"\"\n",
        "  Crie um dicionário de dados  com o seguinte formato:\n",
        "  [\n",
        "    \"Nome\": [\"\", \"\", ],\n",
        "    \"1º Bimestre\": [\"\", \"\",],\n",
        "    \"2º Bimestre\": [\"\", \"\",],\n",
        "    \"3º Bimestre\": [\"\", \"\",],\n",
        "    \"4º Bimestre\": [\"\", \"\",]\n",
        "]\n",
        "  No campo Nome, crie 30 nome e sobrenomes fictícios, sem repetir nenhum e nos outros campos escolha aleatoriamente notas, com números decimais, entre 0 e 10.\n",
        "  É importante que alguns alunos, tenham notas menores que 5.\n",
        "  A resposta precisa ter exatamente esse formato, para criar um dataframe pandas com ele.\n",
        "\"\"\")\n",
        "print(response.text)"
      ],
      "metadata": {
        "colab": {
          "base_uri": "https://localhost:8080/",
          "height": 1000
        },
        "id": "FTSnHnL9yElt",
        "outputId": "a8675127-fcf5-429d-c7ac-fe1066af2016"
      },
      "execution_count": 10,
      "outputs": [
        {
          "output_type": "stream",
          "name": "stdout",
          "text": [
            "[\n",
            "    {\n",
            "        \"Nome\": \"Aline Souza\",\n",
            "        \"1º Bimestre\": 9.2,\n",
            "        \"2º Bimestre\": 8.5,\n",
            "        \"3º Bimestre\": 7.8,\n",
            "        \"4º Bimestre\": 9.1\n",
            "    },\n",
            "    {\n",
            "        \"Nome\": \"Bruno Silva\",\n",
            "        \"1º Bimestre\": 7.5,\n",
            "        \"2º Bimestre\": 6.8,\n",
            "        \"3º Bimestre\": 5.9,\n",
            "        \"4º Bimestre\": 7.2\n",
            "    },\n",
            "    {\n",
            "        \"Nome\": \"Camila Oliveira\",\n",
            "        \"1º Bimestre\": 8.7,\n",
            "        \"2º Bimestre\": 9.4,\n",
            "        \"3º Bimestre\": 8.9,\n",
            "        \"4º Bimestre\": 9.6\n",
            "    },\n",
            "    {\n",
            "        \"Nome\": \"Daniel Costa\",\n",
            "        \"1º Bimestre\": 6.3,\n",
            "        \"2º Bimestre\": 5.6,\n",
            "        \"3º Bimestre\": 4.8,\n",
            "        \"4º Bimestre\": 6.1\n",
            "    },\n",
            "    {\n",
            "        \"Nome\": \"Eduardo Santos\",\n",
            "        \"1º Bimestre\": 9.9,\n",
            "        \"2º Bimestre\": 9.2,\n",
            "        \"3º Bimestre\": 8.5,\n",
            "        \"4º Bimestre\": 9.7\n",
            "    },\n",
            "    {\n",
            "        \"Nome\": \"Fernanda Rodrigues\",\n",
            "        \"1º Bimestre\": 8.1,\n",
            "        \"2º Bimestre\": 7.4,\n",
            "        \"3º Bimestre\": 6.7,\n",
            "        \"4º Bimestre\": 8.0\n",
            "    },\n",
            "    {\n",
            "        \"Nome\": \"Gabriel Pereira\",\n",
            "        \"1º Bimestre\": 7.2,\n",
            "        \"2º Bimestre\": 6.5,\n",
            "        \"3º Bimestre\": 5.8,\n",
            "        \"4º Bimestre\": 7.1\n",
            "    },\n",
            "    {\n",
            "        \"Nome\": \"Helena Melo\",\n",
            "        \"1º Bimestre\": 9.0,\n",
            "        \"2º Bimestre\": 8.3,\n",
            "        \"3º Bimestre\": 7.6,\n",
            "        \"4º Bimestre\": 8.9\n",
            "    },\n",
            "    {\n",
            "        \"Nome\": \"Igor Almeida\",\n",
            "        \"1º Bimestre\": 6.2,\n",
            "        \"2º Bimestre\": 5.5,\n",
            "        \"3º Bimestre\": 4.7,\n",
            "        \"4º Bimestre\": 6.0\n",
            "    },\n",
            "    {\n",
            "        \"Nome\": \"Jéssica Ferreira\",\n",
            "        \"1º Bimestre\": 9.8,\n",
            "        \"2º Bimestre\": 9.1,\n",
            "        \"3º Bimestre\": 8.4,\n",
            "        \"4º Bimestre\": 9.6\n",
            "    },\n",
            "    {\n",
            "        \"Nome\": \"Lucas Souza\",\n",
            "        \"1º Bimestre\": 7.4,\n",
            "        \"2º Bimestre\": 6.7,\n",
            "        \"3º Bimestre\": 6.0,\n",
            "        \"4º Bimestre\": 7.3\n",
            "    },\n",
            "    {\n",
            "        \"Nome\": \"Maria Silva\",\n",
            "        \"1º Bimestre\": 8.6,\n",
            "        \"2º Bimestre\": 7.9,\n",
            "        \"3º Bimestre\": 7.2,\n",
            "        \"4º Bimestre\": 8.5\n",
            "    },\n",
            "    {\n",
            "        \"Nome\": \"Mateus Oliveira\",\n",
            "        \"1º Bimestre\": 6.1,\n",
            "        \"2º Bimestre\": 5.4,\n",
            "        \"3º Bimestre\": 4.6,\n",
            "        \"4º Bimestre\": 5.9\n",
            "    },\n",
            "    {\n",
            "        \"Nome\": \"Nicole Santos\",\n",
            "        \"1º Bimestre\": 9.7,\n",
            "        \"2º Bimestre\": 9.0,\n",
            "        \"3º Bimestre\": 8.3,\n",
            "        \"4º Bimestre\": 9.5\n",
            "    },\n",
            "    {\n",
            "        \"Nome\": \"Pedro Costa\",\n",
            "        \"1º Bimestre\": 7.3,\n",
            "        \"2º Bimestre\": 6.6,\n",
            "        \"3º Bimestre\": 5.9,\n",
            "        \"4º Bimestre\": 7.2\n",
            "    },\n",
            "    {\n",
            "        \"Nome\": \"Rafaela Rodrigues\",\n",
            "        \"1º Bimestre\": 8.5,\n",
            "        \"2º Bimestre\": 7.8,\n",
            "        \"3º Bimestre\": 7.1,\n",
            "        \"4º Bimestre\": 8.4\n",
            "    },\n",
            "    {\n",
            "        \"Nome\": \"Rodrigo Pereira\",\n",
            "        \"1º Bimestre\": 6.0,\n",
            "        \"2º Bimestre\": 5.3,\n",
            "        \"3º Bimestre\": 4.5,\n",
            "        \"4º Bimestre\": 5.8\n",
            "    },\n",
            "    {\n",
            "        \"Nome\": \"Sofia Melo\",\n",
            "        \"1º Bimestre\": 9.6,\n",
            "        \"2º Bimestre\": 8.9,\n",
            "        \"3º Bimestre\": 8.2,\n",
            "        \"4º Bimestre\": 9.4\n",
            "    },\n",
            "    {\n",
            "        \"Nome\": \"Thiago Almeida\",\n",
            "        \"1º Bimestre\": 7.1,\n",
            "        \"2º Bimestre\": 6.4,\n",
            "        \"3º Bimestre\": 5.7,\n",
            "        \"4º Bimestre\": 7.0\n",
            "    },\n",
            "    {\n",
            "        \"Nome\": \"Vanessa Ferreira\",\n",
            "        \"1º Bimestre\": 8.3,\n",
            "        \"2º Bimestre\": 7.6,\n",
            "        \"3º Bimestre\": 6.9,\n",
            "        \"4º Bimestre\": 8.2\n",
            "    },\n",
            "    {\n",
            "        \"Nome\": \"Victor Souza\",\n",
            "        \"1º Bimestre\": 5.9,\n",
            "        \"2º Bimestre\": 5.2,\n",
            "        \"3º Bimestre\": 4.4,\n",
            "        \"4º Bimestre\": 5.7\n",
            "    },\n",
            "    {\n",
            "        \"Nome\": \"Ana Silva\",\n",
            "        \"1º Bimestre\": 9.5,\n",
            "        \"2º Bimestre\": 8.8,\n",
            "        \"3º Bimestre\": 8.1,\n",
            "        \"4º Bimestre\": 9.3\n",
            "    },\n",
            "    {\n",
            "        \"Nome\": \"Bruno Oliveira\",\n",
            "        \"1º Bimestre\": 7.0,\n",
            "        \"2º Bimestre\": 6.3,\n",
            "        \"3º Bimestre\": 5.6,\n",
            "        \"4º Bimestre\": 6.9\n",
            "    },\n",
            "    {\n",
            "        \"Nome\": \"Camila Santos\",\n",
            "        \"1º Bimestre\": 8.2,\n",
            "        \"2º Bimestre\": 7.5,\n",
            "        \"3º Bimestre\": 6.8,\n",
            "        \"4º Bimestre\": 8.1\n",
            "    },\n",
            "    {\n",
            "        \"Nome\": \"Daniel Costa\",\n",
            "        \"1º Bimestre\": 5.8,\n",
            "        \"2º Bimestre\": 5.1,\n",
            "        \"3º Bimestre\": 4.3,\n",
            "        \"4º Bimestre\": 5.6\n",
            "    },\n",
            "    {\n",
            "        \"Nome\": \"Eduardo Rodrigues\",\n",
            "        \"1º Bimestre\": 9.4,\n",
            "        \"2º Bimestre\": 8.7,\n",
            "        \"3º Bimestre\": 8.0,\n",
            "        \"4º Bimestre\": 9.2\n",
            "    },\n",
            "    {\n",
            "        \"Nome\": \"Fernanda Pereira\",\n",
            "        \"1º Bimestre\": 7.9,\n",
            "        \"2º Bimestre\": 7.2,\n",
            "        \"3º Bimestre\": 6.5,\n",
            "        \"4º Bimestre\": 7.8\n",
            "    },\n",
            "    {\n",
            "        \"Nome\": \"Gabriel Almeida\",\n",
            "        \"1º Bimestre\": 6.9,\n",
            "        \"2º Bimestre\": 6.2,\n",
            "        \"3º Bimestre\": 5.5,\n",
            "        \"4º Bimestre\": 6.8\n",
            "    },\n",
            "    {\n",
            "        \"Nome\": \"Helena Ferreira\",\n",
            "        \"1º Bimestre\": 8.1,\n",
            "        \"2º Bimestre\": 7.4,\n",
            "        \"3º Bimestre\": 6.7,\n",
            "        \"4º Bimestre\": 8.0\n",
            "    },\n",
            "    {\n",
            "        \"Nome\": \"Igor Santos\",\n",
            "        \"1º Bimestre\": 5.7,\n",
            "        \"2º Bimestre\": 5.0,\n",
            "        \"3º Bimestre\": 4.2,\n",
            "        \"4º Bimestre\": 5.5\n",
            "    }\n",
            "]\n"
          ]
        }
      ]
    },
    {
      "cell_type": "markdown",
      "source": [
        "Salvando os dados em um arquivo csv."
      ],
      "metadata": {
        "id": "Gro-OKIvOvp6"
      }
    },
    {
      "cell_type": "code",
      "source": [
        "data = response.text\n",
        "df = pd.read_json(data, orient='records')\n",
        "df.to_csv('boletim_alunos.csv', index=False)"
      ],
      "metadata": {
        "id": "Z2mtzVv64h8-"
      },
      "execution_count": 11,
      "outputs": []
    },
    {
      "cell_type": "markdown",
      "source": [
        "Abrindo o arquivo salvo e exibindo os dados"
      ],
      "metadata": {
        "id": "aBMSXuEjO40O"
      }
    },
    {
      "cell_type": "code",
      "source": [
        "df = pd.read_csv(\"boletim_alunos.csv\")\n",
        "print(df)"
      ],
      "metadata": {
        "colab": {
          "base_uri": "https://localhost:8080/"
        },
        "id": "yJt-YKOS2h_A",
        "outputId": "c2c3e8f8-43da-43e3-d164-52e7e7c25ead"
      },
      "execution_count": 12,
      "outputs": [
        {
          "output_type": "stream",
          "name": "stdout",
          "text": [
            "                  Nome  1º Bimestre  2º Bimestre  3º Bimestre  4º Bimestre\n",
            "0          Aline Souza          9.2          8.5          7.8          9.1\n",
            "1          Bruno Silva          7.5          6.8          5.9          7.2\n",
            "2      Camila Oliveira          8.7          9.4          8.9          9.6\n",
            "3         Daniel Costa          6.3          5.6          4.8          6.1\n",
            "4       Eduardo Santos          9.9          9.2          8.5          9.7\n",
            "5   Fernanda Rodrigues          8.1          7.4          6.7          8.0\n",
            "6      Gabriel Pereira          7.2          6.5          5.8          7.1\n",
            "7          Helena Melo          9.0          8.3          7.6          8.9\n",
            "8         Igor Almeida          6.2          5.5          4.7          6.0\n",
            "9     Jéssica Ferreira          9.8          9.1          8.4          9.6\n",
            "10         Lucas Souza          7.4          6.7          6.0          7.3\n",
            "11         Maria Silva          8.6          7.9          7.2          8.5\n",
            "12     Mateus Oliveira          6.1          5.4          4.6          5.9\n",
            "13       Nicole Santos          9.7          9.0          8.3          9.5\n",
            "14         Pedro Costa          7.3          6.6          5.9          7.2\n",
            "15   Rafaela Rodrigues          8.5          7.8          7.1          8.4\n",
            "16     Rodrigo Pereira          6.0          5.3          4.5          5.8\n",
            "17          Sofia Melo          9.6          8.9          8.2          9.4\n",
            "18      Thiago Almeida          7.1          6.4          5.7          7.0\n",
            "19    Vanessa Ferreira          8.3          7.6          6.9          8.2\n",
            "20        Victor Souza          5.9          5.2          4.4          5.7\n",
            "21           Ana Silva          9.5          8.8          8.1          9.3\n",
            "22      Bruno Oliveira          7.0          6.3          5.6          6.9\n",
            "23       Camila Santos          8.2          7.5          6.8          8.1\n",
            "24        Daniel Costa          5.8          5.1          4.3          5.6\n",
            "25   Eduardo Rodrigues          9.4          8.7          8.0          9.2\n",
            "26    Fernanda Pereira          7.9          7.2          6.5          7.8\n",
            "27     Gabriel Almeida          6.9          6.2          5.5          6.8\n",
            "28     Helena Ferreira          8.1          7.4          6.7          8.0\n",
            "29         Igor Santos          5.7          5.0          4.2          5.5\n"
          ]
        }
      ]
    }
  ]
}