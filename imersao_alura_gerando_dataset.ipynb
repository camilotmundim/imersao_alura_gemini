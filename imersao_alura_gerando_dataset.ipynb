{
  "nbformat": 4,
  "nbformat_minor": 0,
  "metadata": {
    "colab": {
      "provenance": [],
      "authorship_tag": "ABX9TyOszeyGeY/wX/JQPeIXrCdt",
      "include_colab_link": true
    },
    "kernelspec": {
      "name": "python3",
      "display_name": "Python 3"
    },
    "language_info": {
      "name": "python"
    }
  },
  "cells": [
    {
      "cell_type": "markdown",
      "metadata": {
        "id": "view-in-github",
        "colab_type": "text"
      },
      "source": [
        "<a href=\"https://colab.research.google.com/github/camilotmundim/imersao_alura_gemini/blob/main/imersao_alura_gerando_dataset.ipynb\" target=\"_parent\"><img src=\"https://colab.research.google.com/assets/colab-badge.svg\" alt=\"Open In Colab\"/></a>"
      ]
    },
    {
      "cell_type": "markdown",
      "source": [
        "###Instalação da biblioteca Python do Gemini API"
      ],
      "metadata": {
        "id": "QG6NBZgUHWcb"
      }
    },
    {
      "cell_type": "code",
      "execution_count": 1,
      "metadata": {
        "id": "TWXmTmINf9a5"
      },
      "outputs": [],
      "source": [
        "!pip install -q -U google-generativeai"
      ]
    },
    {
      "cell_type": "markdown",
      "source": [
        "###Importação dos pacotes necessários"
      ],
      "metadata": {
        "id": "nCo69Y7cIAjN"
      }
    },
    {
      "cell_type": "code",
      "source": [
        "from google.colab import userdata\n",
        "import google.generativeai as genai\n",
        "import pandas as pd"
      ],
      "metadata": {
        "id": "GHhJ0RBPIANk"
      },
      "execution_count": 2,
      "outputs": []
    },
    {
      "cell_type": "markdown",
      "source": [
        "###Autenticação com sua API KEY\n",
        "Após gerar sua API_KEY no Google AI Studio (https://aistudio.google.com), crie uma Secret com o nome 'GOOGLE_API_KEY' no Colab (ou somente cole o texto dela no parâmetro api_key abaixo)."
      ],
      "metadata": {
        "id": "-BruVR-1IZrH"
      }
    },
    {
      "cell_type": "code",
      "source": [
        "GOOGLE_API_KEY=userdata.get('GOOGLE_API_KEY')\n",
        "genai.configure(api_key=GOOGLE_API_KEY)"
      ],
      "metadata": {
        "id": "Z5U-Ecweptn0"
      },
      "execution_count": 3,
      "outputs": []
    },
    {
      "cell_type": "markdown",
      "source": [
        "###Seleção do modelo"
      ],
      "metadata": {
        "id": "kzYiAboWKItp"
      }
    },
    {
      "cell_type": "markdown",
      "source": [
        "Listando os modelos disponíveis."
      ],
      "metadata": {
        "id": "DTEDS5QULByB"
      }
    },
    {
      "cell_type": "code",
      "source": [
        "for m in genai.list_models():\n",
        "  if 'generateContent' in m.supported_generation_methods:\n",
        "    print(m.name)"
      ],
      "metadata": {
        "colab": {
          "base_uri": "https://localhost:8080/",
          "height": 138
        },
        "id": "iy4lJrIHpx3u",
        "outputId": "490bc3e9-705d-45ef-b484-d757c574084c"
      },
      "execution_count": 4,
      "outputs": [
        {
          "output_type": "stream",
          "name": "stdout",
          "text": [
            "models/gemini-1.0-pro\n",
            "models/gemini-1.0-pro-001\n",
            "models/gemini-1.0-pro-latest\n",
            "models/gemini-1.0-pro-vision-latest\n",
            "models/gemini-1.5-pro-latest\n",
            "models/gemini-pro\n",
            "models/gemini-pro-vision\n"
          ]
        }
      ]
    },
    {
      "cell_type": "markdown",
      "source": [
        "Configurando os parâmetros do modelo"
      ],
      "metadata": {
        "id": "ALuC6nrDMJo5"
      }
    },
    {
      "cell_type": "code",
      "source": [
        "generation_config = {\n",
        "  \"candidate_count\": 1,\n",
        "  \"temperature\": 0.5,\n",
        "}"
      ],
      "metadata": {
        "id": "BeRG5EvnMW2H"
      },
      "execution_count": 5,
      "outputs": []
    },
    {
      "cell_type": "markdown",
      "source": [
        "Instanciando o modelo escolhido, utilizando as configurações personalizadas."
      ],
      "metadata": {
        "id": "ziH9OaVGMy66"
      }
    },
    {
      "cell_type": "code",
      "source": [
        "model = genai.GenerativeModel(model_name='gemini-1.0-pro',\n",
        "                              generation_config=generation_config,\n",
        "                              )"
      ],
      "metadata": {
        "id": "7BnONVW94Wj0"
      },
      "execution_count": 6,
      "outputs": []
    },
    {
      "cell_type": "markdown",
      "source": [
        "###Criação do dataset"
      ],
      "metadata": {
        "id": "kcIM9lt8NKbh"
      }
    },
    {
      "cell_type": "markdown",
      "source": [
        "Prompt para o Gemini criar um dataset, **com dados fictícios**, contendo uma lista de alunos e notas bimestrais dos mesmos.\n",
        "Esse dataset será utilizado no ChatBot que será criado depois."
      ],
      "metadata": {
        "id": "gLV-5Poz44FE"
      }
    },
    {
      "cell_type": "code",
      "source": [
        "response =  model.generate_content(\"\"\"\n",
        "  Crie um dicionário de dados  com o seguinte formato:\n",
        "  [\n",
        "    \"Nome\": [\"\", \"\", ],\n",
        "    \"1º Bimestre\": [\"\", \"\",],\n",
        "    \"2º Bimestre\": [\"\", \"\",],\n",
        "    \"3º Bimestre\": [\"\", \"\",],\n",
        "    \"4º Bimestre\": [\"\", \"\",]\n",
        "]\n",
        "  No campo Nome, crie 30 nomes fictícios e nos outros campos escolha aleatoriamente notas, com números decimais, entre 0 e 10.\n",
        "  É importante que alguns alunos, tenham notas menores que 6.\n",
        "  A resposta precisa ter exatamente esse formato, para criar um dataframe pandas com ele.\n",
        "\"\"\")\n",
        "print(response.text)"
      ],
      "metadata": {
        "colab": {
          "base_uri": "https://localhost:8080/",
          "height": 1000
        },
        "id": "FTSnHnL9yElt",
        "outputId": "8296bc91-7781-49de-f628-487d84ec0549"
      },
      "execution_count": 7,
      "outputs": [
        {
          "output_type": "stream",
          "name": "stdout",
          "text": [
            "[\n",
            "    {\n",
            "        \"Nome\": \"Ana Silva\",\n",
            "        \"1º Bimestre\": 8.5,\n",
            "        \"2º Bimestre\": 9.2,\n",
            "        \"3º Bimestre\": 7.8,\n",
            "        \"4º Bimestre\": 8.9\n",
            "    },\n",
            "    {\n",
            "        \"Nome\": \"Bruno Souza\",\n",
            "        \"1º Bimestre\": 7.3,\n",
            "        \"2º Bimestre\": 6.5,\n",
            "        \"3º Bimestre\": 5.9,\n",
            "        \"4º Bimestre\": 7.1\n",
            "    },\n",
            "    {\n",
            "        \"Nome\": \"Camila Oliveira\",\n",
            "        \"1º Bimestre\": 9.6,\n",
            "        \"2º Bimestre\": 8.7,\n",
            "        \"3º Bimestre\": 9.3,\n",
            "        \"4º Bimestre\": 9.8\n",
            "    },\n",
            "    {\n",
            "        \"Nome\": \"Daniel Santos\",\n",
            "        \"1º Bimestre\": 6.2,\n",
            "        \"2º Bimestre\": 5.7,\n",
            "        \"3º Bimestre\": 4.9,\n",
            "        \"4º Bimestre\": 6.3\n",
            "    },\n",
            "    {\n",
            "        \"Nome\": \"Eduarda Ferreira\",\n",
            "        \"1º Bimestre\": 8.9,\n",
            "        \"2º Bimestre\": 9.5,\n",
            "        \"3º Bimestre\": 8.2,\n",
            "        \"4º Bimestre\": 9.1\n",
            "    },\n",
            "    {\n",
            "        \"Nome\": \"Felipe Lima\",\n",
            "        \"1º Bimestre\": 7.6,\n",
            "        \"2º Bimestre\": 6.8,\n",
            "        \"3º Bimestre\": 5.6,\n",
            "        \"4º Bimestre\": 7.2\n",
            "    },\n",
            "    {\n",
            "        \"Nome\": \"Gabriela Costa\",\n",
            "        \"1º Bimestre\": 9.2,\n",
            "        \"2º Bimestre\": 8.6,\n",
            "        \"3º Bimestre\": 9.4,\n",
            "        \"4º Bimestre\": 9.7\n",
            "    },\n",
            "    {\n",
            "        \"Nome\": \"Henrique Pereira\",\n",
            "        \"1º Bimestre\": 6.5,\n",
            "        \"2º Bimestre\": 5.9,\n",
            "        \"3º Bimestre\": 4.7,\n",
            "        \"4º Bimestre\": 6.1\n",
            "    },\n",
            "    {\n",
            "        \"Nome\": \"Isabella Almeida\",\n",
            "        \"1º Bimestre\": 8.7,\n",
            "        \"2º Bimestre\": 9.3,\n",
            "        \"3º Bimestre\": 8.0,\n",
            "        \"4º Bimestre\": 8.8\n",
            "    },\n",
            "    {\n",
            "        \"Nome\": \"João Silva\",\n",
            "        \"1º Bimestre\": 7.4,\n",
            "        \"2º Bimestre\": 6.6,\n",
            "        \"3º Bimestre\": 5.8,\n",
            "        \"4º Bimestre\": 7.0\n",
            "    },\n",
            "    {\n",
            "        \"Nome\": \"Julia Oliveira\",\n",
            "        \"1º Bimestre\": 9.0,\n",
            "        \"2º Bimestre\": 8.4,\n",
            "        \"3º Bimestre\": 9.2,\n",
            "        \"4º Bimestre\": 9.6\n",
            "    },\n",
            "    {\n",
            "        \"Nome\": \"Lucas Santos\",\n",
            "        \"1º Bimestre\": 6.3,\n",
            "        \"2º Bimestre\": 5.7,\n",
            "        \"3º Bimestre\": 4.5,\n",
            "        \"4º Bimestre\": 6.0\n",
            "    },\n",
            "    {\n",
            "        \"Nome\": \"Maria Ferreira\",\n",
            "        \"1º Bimestre\": 8.6,\n",
            "        \"2º Bimestre\": 9.2,\n",
            "        \"3º Bimestre\": 7.9,\n",
            "        \"4º Bimestre\": 8.7\n",
            "    },\n",
            "    {\n",
            "        \"Nome\": \"Miguel Lima\",\n",
            "        \"1º Bimestre\": 7.5,\n",
            "        \"2º Bimestre\": 6.7,\n",
            "        \"3º Bimestre\": 5.5,\n",
            "        \"4º Bimestre\": 7.1\n",
            "    },\n",
            "    {\n",
            "        \"Nome\": \"Nicole Costa\",\n",
            "        \"1º Bimestre\": 9.1,\n",
            "        \"2º Bimestre\": 8.5,\n",
            "        \"3º Bimestre\": 9.3,\n",
            "        \"4º Bimestre\": 9.6\n",
            "    },\n",
            "    {\n",
            "        \"Nome\": \"Pedro Pereira\",\n",
            "        \"1º Bimestre\": 6.4,\n",
            "        \"2º Bimestre\": 5.8,\n",
            "        \"3º Bimestre\": 4.6,\n",
            "        \"4º Bimestre\": 6.2\n",
            "    },\n",
            "    {\n",
            "        \"Nome\": \"Rafaela Almeida\",\n",
            "        \"1º Bimestre\": 8.8,\n",
            "        \"2º Bimestre\": 9.4,\n",
            "        \"3º Bimestre\": 8.1,\n",
            "        \"4º Bimestre\": 8.9\n",
            "    },\n",
            "    {\n",
            "        \"Nome\": \"Ricardo Silva\",\n",
            "        \"1º Bimestre\": 7.3,\n",
            "        \"2º Bimestre\": 6.5,\n",
            "        \"3º Bimestre\": 5.7,\n",
            "        \"4º Bimestre\": 7.0\n",
            "    },\n",
            "    {\n",
            "        \"Nome\": \"Sofia Oliveira\",\n",
            "        \"1º Bimestre\": 9.0,\n",
            "        \"2º Bimestre\": 8.4,\n",
            "        \"3º Bimestre\": 9.1,\n",
            "        \"4º Bimestre\": 9.5\n",
            "    },\n",
            "    {\n",
            "        \"Nome\": \"Thiago Santos\",\n",
            "        \"1º Bimestre\": 6.1,\n",
            "        \"2º Bimestre\": 5.5,\n",
            "        \"3º Bimestre\": 4.3,\n",
            "        \"4º Bimestre\": 5.9\n",
            "    },\n",
            "    {\n",
            "        \"Nome\": \"Vanessa Ferreira\",\n",
            "        \"1º Bimestre\": 8.5,\n",
            "        \"2º Bimestre\": 9.1,\n",
            "        \"3º Bimestre\": 7.8,\n",
            "        \"4º Bimestre\": 8.6\n",
            "    },\n",
            "    {\n",
            "        \"Nome\": \"Victor Lima\",\n",
            "        \"1º Bimestre\": 7.2,\n",
            "        \"2º Bimestre\": 6.4,\n",
            "        \"3º Bimestre\": 5.6,\n",
            "        \"4º Bimestre\": 6.9\n",
            "    },\n",
            "    {\n",
            "        \"Nome\": \"Yasmin Costa\",\n",
            "        \"1º Bimestre\": 9.3,\n",
            "        \"2º Bimestre\": 8.7,\n",
            "        \"3º Bimestre\": 9.5,\n",
            "        \"4º Bimestre\": 9.8\n",
            "    },\n",
            "    {\n",
            "        \"Nome\": \"Yuri Pereira\",\n",
            "        \"1º Bimestre\": 6.6,\n",
            "        \"2º Bimestre\": 6.0,\n",
            "        \"3º Bimestre\": 4.8,\n",
            "        \"4º Bimestre\": 6.4\n",
            "    },\n",
            "    {\n",
            "        \"Nome\": \"Amanda Silva\",\n",
            "        \"1º Bimestre\": 8.9,\n",
            "        \"2º Bimestre\": 9.5,\n",
            "        \"3º Bimestre\": 8.2,\n",
            "        \"4º Bimestre\": 9.0\n",
            "    },\n",
            "    {\n",
            "        \"Nome\": \"Bruno Souza\",\n",
            "        \"1º Bimestre\": 7.1,\n",
            "        \"2º Bimestre\": 6.3,\n",
            "        \"3º Bimestre\": 5.5,\n",
            "        \"4º Bimestre\": 6.7\n",
            "    },\n",
            "    {\n",
            "        \"Nome\": \"Camila Oliveira\",\n",
            "        \"1º Bimestre\": 9.4,\n",
            "        \"2º Bimestre\": 8.8,\n",
            "        \"3º Bimestre\": 9.6,\n",
            "        \"4º Bimestre\": 9.9\n",
            "    },\n",
            "    {\n",
            "        \"Nome\": \"Daniel Santos\",\n",
            "        \"1º Bimestre\": 6.0,\n",
            "        \"2º Bimestre\": 5.4,\n",
            "        \"3º Bimestre\": 4.2,\n",
            "        \"4º Bimestre\": 5.8\n",
            "    },\n",
            "    {\n",
            "        \"Nome\": \"Eduarda Ferreira\",\n",
            "        \"1º Bimestre\": 8.7,\n",
            "        \"2º Bimestre\": 9.3,\n",
            "        \"3º Bimestre\": 8.0,\n",
            "        \"4º Bimestre\": 8.8\n",
            "    }\n",
            "]\n"
          ]
        }
      ]
    },
    {
      "cell_type": "markdown",
      "source": [
        "Salvando os dados em um arquivo csv."
      ],
      "metadata": {
        "id": "Gro-OKIvOvp6"
      }
    },
    {
      "cell_type": "code",
      "source": [
        "data = response.text\n",
        "df = pd.read_json(data, orient='records')\n",
        "df.to_csv('boletim_alunos.csv', index=False)"
      ],
      "metadata": {
        "id": "Z2mtzVv64h8-"
      },
      "execution_count": 8,
      "outputs": []
    },
    {
      "cell_type": "markdown",
      "source": [
        "Abrindo o arquivo salvo e exibindo os dados"
      ],
      "metadata": {
        "id": "aBMSXuEjO40O"
      }
    },
    {
      "cell_type": "code",
      "source": [
        "df = pd.read_csv(\"boletim_alunos.csv\")\n",
        "print(df)"
      ],
      "metadata": {
        "colab": {
          "base_uri": "https://localhost:8080/"
        },
        "id": "yJt-YKOS2h_A",
        "outputId": "6b908f79-ed83-4c96-81f0-b93e9f1f573c"
      },
      "execution_count": 9,
      "outputs": [
        {
          "output_type": "stream",
          "name": "stdout",
          "text": [
            "                Nome  1º Bimestre  2º Bimestre  3º Bimestre  4º Bimestre\n",
            "0          Ana Silva          8.5          9.2          7.8          8.9\n",
            "1        Bruno Souza          7.3          6.5          5.9          7.1\n",
            "2    Camila Oliveira          9.6          8.7          9.3          9.8\n",
            "3      Daniel Santos          6.2          5.7          4.9          6.3\n",
            "4   Eduarda Ferreira          8.9          9.5          8.2          9.1\n",
            "5        Felipe Lima          7.6          6.8          5.6          7.2\n",
            "6     Gabriela Costa          9.2          8.6          9.4          9.7\n",
            "7   Henrique Pereira          6.5          5.9          4.7          6.1\n",
            "8   Isabella Almeida          8.7          9.3          8.0          8.8\n",
            "9         João Silva          7.4          6.6          5.8          7.0\n",
            "10    Julia Oliveira          9.0          8.4          9.2          9.6\n",
            "11      Lucas Santos          6.3          5.7          4.5          6.0\n",
            "12    Maria Ferreira          8.6          9.2          7.9          8.7\n",
            "13       Miguel Lima          7.5          6.7          5.5          7.1\n",
            "14      Nicole Costa          9.1          8.5          9.3          9.6\n",
            "15     Pedro Pereira          6.4          5.8          4.6          6.2\n",
            "16   Rafaela Almeida          8.8          9.4          8.1          8.9\n",
            "17     Ricardo Silva          7.3          6.5          5.7          7.0\n",
            "18    Sofia Oliveira          9.0          8.4          9.1          9.5\n",
            "19     Thiago Santos          6.1          5.5          4.3          5.9\n",
            "20  Vanessa Ferreira          8.5          9.1          7.8          8.6\n",
            "21       Victor Lima          7.2          6.4          5.6          6.9\n",
            "22      Yasmin Costa          9.3          8.7          9.5          9.8\n",
            "23      Yuri Pereira          6.6          6.0          4.8          6.4\n",
            "24      Amanda Silva          8.9          9.5          8.2          9.0\n",
            "25       Bruno Souza          7.1          6.3          5.5          6.7\n",
            "26   Camila Oliveira          9.4          8.8          9.6          9.9\n",
            "27     Daniel Santos          6.0          5.4          4.2          5.8\n",
            "28  Eduarda Ferreira          8.7          9.3          8.0          8.8\n"
          ]
        }
      ]
    }
  ]
}