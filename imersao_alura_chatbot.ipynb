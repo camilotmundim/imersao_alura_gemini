{
  "nbformat": 4,
  "nbformat_minor": 0,
  "metadata": {
    "colab": {
      "provenance": [],
      "authorship_tag": "ABX9TyPkh6Zwz8Ef8AnNMWKvTf6c",
      "include_colab_link": true
    },
    "kernelspec": {
      "name": "python3",
      "display_name": "Python 3"
    },
    "language_info": {
      "name": "python"
    }
  },
  "cells": [
    {
      "cell_type": "markdown",
      "metadata": {
        "id": "view-in-github",
        "colab_type": "text"
      },
      "source": [
        "<a href=\"https://colab.research.google.com/github/camilotmundim/imersao_alura_gemini/blob/main/imersao_alura_chatbot.ipynb\" target=\"_parent\"><img src=\"https://colab.research.google.com/assets/colab-badge.svg\" alt=\"Open In Colab\"/></a>"
      ]
    },
    {
      "cell_type": "markdown",
      "source": [
        "###Instalação da biblioteca Python do Gemini API"
      ],
      "metadata": {
        "id": "QG6NBZgUHWcb"
      }
    },
    {
      "cell_type": "code",
      "execution_count": 1,
      "metadata": {
        "id": "TWXmTmINf9a5"
      },
      "outputs": [],
      "source": [
        "!pip install -q -U google-generativeai"
      ]
    },
    {
      "cell_type": "markdown",
      "source": [
        "###Importação dos pacotes necessários"
      ],
      "metadata": {
        "id": "nCo69Y7cIAjN"
      }
    },
    {
      "cell_type": "code",
      "source": [
        "from google.colab import userdata\n",
        "import google.generativeai as genai\n",
        "import pandas as pd"
      ],
      "metadata": {
        "id": "GHhJ0RBPIANk"
      },
      "execution_count": 2,
      "outputs": []
    },
    {
      "cell_type": "code",
      "source": [
        "import pathlib\n",
        "import textwrap\n",
        "from IPython.display import display\n",
        "from IPython.display import Markdown\n",
        "\n",
        "\n",
        "def to_markdown(text):\n",
        "  text = text.replace('•', '  *')\n",
        "  return Markdown(textwrap.indent(text, '> ', predicate=lambda _: True))"
      ],
      "metadata": {
        "id": "Ts8Gqd5WpmvX"
      },
      "execution_count": 3,
      "outputs": []
    },
    {
      "cell_type": "markdown",
      "source": [
        "###Autenticação com sua API KEY\n",
        "Após gerar sua API_KEY no Google AI Studio (https://aistudio.google.com), crie uma Secret com o nome 'GOOGLE_API_KEY' no Colab (ou somente cole o texto dela no parâmetro api_key abaixo)."
      ],
      "metadata": {
        "id": "-BruVR-1IZrH"
      }
    },
    {
      "cell_type": "code",
      "source": [
        "GOOGLE_API_KEY=userdata.get('GOOGLE_API_KEY')\n",
        "genai.configure(api_key=GOOGLE_API_KEY)"
      ],
      "metadata": {
        "id": "Z5U-Ecweptn0"
      },
      "execution_count": 4,
      "outputs": []
    },
    {
      "cell_type": "markdown",
      "source": [
        "###Carregando dataset\n",
        "Em outro Colab (https://github.com/camilotmundim/imersao_alura_gemini/blob/main/imersao_alura_gerando_dataset.ipynb), foi gerado um dataset ficitício, com dados de Alunos e suas respectivas notas bimestrais."
      ],
      "metadata": {
        "id": "8K7Rarc7SWXI"
      }
    },
    {
      "cell_type": "markdown",
      "source": [
        "Carregando e exibindo os dados"
      ],
      "metadata": {
        "id": "r_wIvLlUSawU"
      }
    },
    {
      "cell_type": "code",
      "source": [
        "url = \"https://github.com/camilotmundim/imersao_alura_gemini/blob/main/boletim_alunos.csv?raw=true\"\n",
        "df = pd.read_csv(url)\n",
        "print(df)"
      ],
      "metadata": {
        "colab": {
          "base_uri": "https://localhost:8080/"
        },
        "id": "NagX5GxcScdk",
        "outputId": "bfa6bebc-b1b1-443b-f5a5-02d5baa84d1a"
      },
      "execution_count": 5,
      "outputs": [
        {
          "output_type": "stream",
          "name": "stdout",
          "text": [
            "                  Nome  1º Bimestre  2º Bimestre  3º Bimestre  4º Bimestre\n",
            "0          Aline Souza          9.2          8.5          7.8          9.1\n",
            "1          Bruno Silva          7.5          6.8          5.9          7.2\n",
            "2      Camila Oliveira          8.7          9.4          8.9          9.6\n",
            "3         Daniel Costa          6.3          5.6          4.8          6.1\n",
            "4       Eduardo Santos          9.9          9.2          8.5          9.7\n",
            "5   Fernanda Rodrigues          8.1          7.4          6.7          8.0\n",
            "6      Gabriel Pereira          7.2          6.5          5.8          7.1\n",
            "7          Helena Melo          9.0          8.3          7.6          8.9\n",
            "8         Igor Almeida          6.2          5.5          4.7          6.0\n",
            "9     Jéssica Ferreira          9.8          9.1          8.4          9.6\n",
            "10         Lucas Souza          7.4          6.7          6.0          7.3\n",
            "11         Maria Silva          8.6          7.9          7.2          8.5\n",
            "12     Mateus Oliveira          6.1          5.4          4.6          5.9\n",
            "13       Nicole Santos          9.7          9.0          8.3          9.5\n",
            "14         Pedro Costa          7.3          6.6          5.9          7.2\n",
            "15   Rafaela Rodrigues          8.5          7.8          7.1          8.4\n",
            "16     Rodrigo Pereira          6.0          5.3          4.5          5.8\n",
            "17          Sofia Melo          9.6          8.9          8.2          9.4\n",
            "18      Thiago Almeida          7.1          6.4          5.7          7.0\n",
            "19    Vanessa Ferreira          8.3          7.6          6.9          8.2\n",
            "20        Victor Souza          5.9          5.2          4.4          5.7\n",
            "21           Ana Silva          9.5          8.8          8.1          9.3\n",
            "22      Bruno Oliveira          7.0          6.3          5.6          6.9\n",
            "23       Camila Santos          8.2          7.5          6.8          8.1\n",
            "24        Daniel Costa          5.8          5.1          4.3          5.6\n",
            "25   Eduardo Rodrigues          9.4          8.7          8.0          9.2\n",
            "26    Fernanda Pereira          7.9          7.2          6.5          7.8\n",
            "27     Gabriel Almeida          6.9          6.2          5.5          6.8\n",
            "28     Helena Ferreira          8.1          7.4          6.7          8.0\n",
            "29         Igor Santos          5.7          5.0          4.2          5.5\n"
          ]
        }
      ]
    },
    {
      "cell_type": "markdown",
      "source": [
        "###Seleção do modelo"
      ],
      "metadata": {
        "id": "kzYiAboWKItp"
      }
    },
    {
      "cell_type": "markdown",
      "source": [
        "Listando os modelos disponíveis."
      ],
      "metadata": {
        "id": "DTEDS5QULByB"
      }
    },
    {
      "cell_type": "code",
      "source": [
        "for m in genai.list_models():\n",
        "  if 'generateContent' in m.supported_generation_methods:\n",
        "    print(m.name)"
      ],
      "metadata": {
        "colab": {
          "base_uri": "https://localhost:8080/",
          "height": 138
        },
        "id": "iy4lJrIHpx3u",
        "outputId": "dd8f1e17-4520-4810-dde1-ba2b0d5787e0"
      },
      "execution_count": 6,
      "outputs": [
        {
          "output_type": "stream",
          "name": "stdout",
          "text": [
            "models/gemini-1.0-pro\n",
            "models/gemini-1.0-pro-001\n",
            "models/gemini-1.0-pro-latest\n",
            "models/gemini-1.0-pro-vision-latest\n",
            "models/gemini-1.5-pro-latest\n",
            "models/gemini-pro\n",
            "models/gemini-pro-vision\n"
          ]
        }
      ]
    },
    {
      "cell_type": "markdown",
      "source": [
        "Configurando os parâmetros do modelo"
      ],
      "metadata": {
        "id": "ALuC6nrDMJo5"
      }
    },
    {
      "cell_type": "code",
      "source": [
        "generation_config = {\n",
        "  \"candidate_count\": 1,\n",
        "  \"temperature\": 0.5,\n",
        "}"
      ],
      "metadata": {
        "id": "BeRG5EvnMW2H"
      },
      "execution_count": 7,
      "outputs": []
    },
    {
      "cell_type": "markdown",
      "source": [
        "Instanciando o modelo escolhido, utilizando as configurações personalizadas."
      ],
      "metadata": {
        "id": "ziH9OaVGMy66"
      }
    },
    {
      "cell_type": "code",
      "source": [
        "model = genai.GenerativeModel(model_name='gemini-1.0-pro',\n",
        "                              generation_config=generation_config,\n",
        "                              )"
      ],
      "metadata": {
        "id": "7BnONVW94Wj0"
      },
      "execution_count": 8,
      "outputs": []
    },
    {
      "cell_type": "code",
      "source": [
        "chat = model.start_chat(history=[])"
      ],
      "metadata": {
        "id": "V6J9rp2zvsaI"
      },
      "execution_count": 9,
      "outputs": []
    },
    {
      "cell_type": "code",
      "source": [
        "print(df)"
      ],
      "metadata": {
        "id": "qOhmSbf5WBzH"
      },
      "execution_count": null,
      "outputs": []
    },
    {
      "cell_type": "code",
      "source": [
        "nome = input('Informe seu nome e sobrenome, para que eu possa verificar suas notas: ')\n",
        "\n",
        "prompt = f\"\"\"Você é o assistente de um professor, responsável por informar ao aluno suas notas bimestrais.\n",
        "O aluno irá informar seu {nome} e você irá olhar no documento {df} qual a nota dele e informar as notas.\n",
        "\n",
        "Se o nome do aluno não estiver na lista, informe que os dados não foram encontrados.\n",
        "\n",
        "Some essas quatro notas (1º Bimestre + 2º Bimestre + 3º Bimestre + 4º Bimestre).\n",
        "Se o total for inferior a 24, diga que infelizmente ele terá que fazer a prova de recuperação.\n",
        "Se o total for igual ou superior a 24, parabenize e diga que ele está aprovado.\n",
        "\n",
        "\n",
        "\n",
        "\"\"\"\n",
        "\n",
        "response = chat.send_message(prompt)\n",
        "to_markdown(response.text)"
      ],
      "metadata": {
        "colab": {
          "base_uri": "https://localhost:8080/",
          "height": 249
        },
        "id": "o0hjL0x4V3s-",
        "outputId": "95b6442b-51a4-4e14-b1e1-33d39641d66d"
      },
      "execution_count": 11,
      "outputs": [
        {
          "name": "stdout",
          "output_type": "stream",
          "text": [
            "Informe seu nome e sobrenome, para que eu possa verificar suas notas: Igor Santos\n"
          ]
        },
        {
          "output_type": "execute_result",
          "data": {
            "text/plain": [
              "<IPython.core.display.Markdown object>"
            ],
            "text/markdown": "> Igor Santos\n> \n> **Notas Bimestrais:**\n> \n> * 1º Bimestre: 5.7\n> * 2º Bimestre: 5.0\n> * 3º Bimestre: 4.2\n> * 4º Bimestre: 5.5\n> \n> **Total:** 20.4\n> \n> **Resultado:**\n> \n> Infelizmente, você terá que fazer a prova de recuperação."
          },
          "metadata": {},
          "execution_count": 11
        }
      ]
    }
  ]
}